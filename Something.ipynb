{
 "cells": [
  {
   "cell_type": "code",
   "execution_count": 7,
   "metadata": {},
   "outputs": [
    {
     "name": "stdin",
     "output_type": "stream",
     "text": [
      "Enter your full name: Josh Paulovich\n",
      "Enter any 2 words j\n"
     ]
    },
    {
     "name": "stdout",
     "output_type": "stream",
     "text": [
      "The 2 words contain 1 letter(s) from your name!\n"
     ]
    }
   ],
   "source": [
    "str1 = input('Enter your full name:').lower()\n",
    "count = 0\n",
    "lst = []\n",
    "for char in str1:\n",
    "    lst.append(char)\n",
    "str2 = input('Enter any 2 words').lower()\n",
    "for char in str2:\n",
    "    if(char in lst):\n",
    "        count += 1\n",
    "print('The 2 words contain', count, 'letter(s) from your name!')\n"
   ]
  },
  {
   "cell_type": "code",
   "execution_count": null,
   "metadata": {},
   "outputs": [],
   "source": []
  }
 ],
 "metadata": {
  "kernelspec": {
   "display_name": "Python 3",
   "language": "python",
   "name": "python3"
  },
  "language_info": {
   "codemirror_mode": {
    "name": "ipython",
    "version": 3
   },
   "file_extension": ".py",
   "mimetype": "text/x-python",
   "name": "python",
   "nbconvert_exporter": "python",
   "pygments_lexer": "ipython3",
   "version": "3.8.3"
  }
 },
 "nbformat": 4,
 "nbformat_minor": 4
}
